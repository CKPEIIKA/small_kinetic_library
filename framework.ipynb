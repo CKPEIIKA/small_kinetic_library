{
 "cells": [
  {
   "cell_type": "code",
   "execution_count": 1,
   "id": "3cbb4c2c",
   "metadata": {},
   "outputs": [],
   "source": [
    "## todo:\n",
    "# оформить в единый код\n",
    "# единая концепция: есть регрессоры, есть формулы смешивания, есть показатели, есть разные формулы, все np массивы"
   ]
  },
  {
   "cell_type": "code",
   "execution_count": 2,
   "id": "fe109c27",
   "metadata": {},
   "outputs": [],
   "source": [
    "import pandas as pd # для работы с датасетами\n",
    "import numpy as np # для массивов нампай"
   ]
  },
  {
   "cell_type": "markdown",
   "id": "e331550e",
   "metadata": {},
   "source": [
    "### Загружаем исходные массивы"
   ]
  },
  {
   "cell_type": "code",
   "execution_count": 3,
   "id": "53d8a59b",
   "metadata": {},
   "outputs": [
    {
     "ename": "FileNotFoundError",
     "evalue": "[Errno 2] No such file or directory: 'datasets/PAINeT train data-24-01-2023 O.csv'",
     "output_type": "error",
     "traceback": [
      "\u001b[0;31m---------------------------------------------------------------------------\u001b[0m",
      "\u001b[0;31mFileNotFoundError\u001b[0m                         Traceback (most recent call last)",
      "\u001b[1;32m/home/uu/Python/particle_framework/framework.ipynb Cell 4\u001b[0m line \u001b[0;36m2\n\u001b[1;32m      <a href='vscode-notebook-cell:/home/uu/Python/particle_framework/framework.ipynb#W3sZmlsZQ%3D%3D?line=0'>1</a>\u001b[0m \u001b[39m# N = pd.read_csv(\"PAINeT train data-24-01-2023 N.csv\",sep=';',decimal=',')\u001b[39;00m\n\u001b[0;32m----> <a href='vscode-notebook-cell:/home/uu/Python/particle_framework/framework.ipynb#W3sZmlsZQ%3D%3D?line=1'>2</a>\u001b[0m Odata \u001b[39m=\u001b[39m pd\u001b[39m.\u001b[39mread_csv(\u001b[39m\"\u001b[39m\u001b[39mdatasets/PAINeT train data-24-01-2023 O.csv\u001b[39m\u001b[39m\"\u001b[39m,sep\u001b[39m=\u001b[39m\u001b[39m'\u001b[39m\u001b[39m;\u001b[39m\u001b[39m'\u001b[39m,decimal\u001b[39m=\u001b[39m\u001b[39m'\u001b[39m\u001b[39m,\u001b[39m\u001b[39m'\u001b[39m)\n\u001b[1;32m      <a href='vscode-notebook-cell:/home/uu/Python/particle_framework/framework.ipynb#W3sZmlsZQ%3D%3D?line=2'>3</a>\u001b[0m \u001b[39m# N2 = pd.read_csv(\"PAINeT train data-24-01-2023 N2.csv\",sep=';',decimal=',')\u001b[39;00m\n\u001b[1;32m      <a href='vscode-notebook-cell:/home/uu/Python/particle_framework/framework.ipynb#W3sZmlsZQ%3D%3D?line=3'>4</a>\u001b[0m O2data \u001b[39m=\u001b[39m pd\u001b[39m.\u001b[39mread_csv(\u001b[39m\"\u001b[39m\u001b[39mdatasets/PAINeT train data-24-01-2023 O2.csv\u001b[39m\u001b[39m\"\u001b[39m,sep\u001b[39m=\u001b[39m\u001b[39m'\u001b[39m\u001b[39m;\u001b[39m\u001b[39m'\u001b[39m,decimal\u001b[39m=\u001b[39m\u001b[39m'\u001b[39m\u001b[39m,\u001b[39m\u001b[39m'\u001b[39m)\n",
      "File \u001b[0;32m~/.miniconda3/envs/regression2/lib/python3.11/site-packages/pandas/util/_decorators.py:211\u001b[0m, in \u001b[0;36mdeprecate_kwarg.<locals>._deprecate_kwarg.<locals>.wrapper\u001b[0;34m(*args, **kwargs)\u001b[0m\n\u001b[1;32m    209\u001b[0m     \u001b[39melse\u001b[39;00m:\n\u001b[1;32m    210\u001b[0m         kwargs[new_arg_name] \u001b[39m=\u001b[39m new_arg_value\n\u001b[0;32m--> 211\u001b[0m \u001b[39mreturn\u001b[39;00m func(\u001b[39m*\u001b[39margs, \u001b[39m*\u001b[39m\u001b[39m*\u001b[39mkwargs)\n",
      "File \u001b[0;32m~/.miniconda3/envs/regression2/lib/python3.11/site-packages/pandas/util/_decorators.py:331\u001b[0m, in \u001b[0;36mdeprecate_nonkeyword_arguments.<locals>.decorate.<locals>.wrapper\u001b[0;34m(*args, **kwargs)\u001b[0m\n\u001b[1;32m    325\u001b[0m \u001b[39mif\u001b[39;00m \u001b[39mlen\u001b[39m(args) \u001b[39m>\u001b[39m num_allow_args:\n\u001b[1;32m    326\u001b[0m     warnings\u001b[39m.\u001b[39mwarn(\n\u001b[1;32m    327\u001b[0m         msg\u001b[39m.\u001b[39mformat(arguments\u001b[39m=\u001b[39m_format_argument_list(allow_args)),\n\u001b[1;32m    328\u001b[0m         \u001b[39mFutureWarning\u001b[39;00m,\n\u001b[1;32m    329\u001b[0m         stacklevel\u001b[39m=\u001b[39mfind_stack_level(),\n\u001b[1;32m    330\u001b[0m     )\n\u001b[0;32m--> 331\u001b[0m \u001b[39mreturn\u001b[39;00m func(\u001b[39m*\u001b[39margs, \u001b[39m*\u001b[39m\u001b[39m*\u001b[39mkwargs)\n",
      "File \u001b[0;32m~/.miniconda3/envs/regression2/lib/python3.11/site-packages/pandas/io/parsers/readers.py:950\u001b[0m, in \u001b[0;36mread_csv\u001b[0;34m(filepath_or_buffer, sep, delimiter, header, names, index_col, usecols, squeeze, prefix, mangle_dupe_cols, dtype, engine, converters, true_values, false_values, skipinitialspace, skiprows, skipfooter, nrows, na_values, keep_default_na, na_filter, verbose, skip_blank_lines, parse_dates, infer_datetime_format, keep_date_col, date_parser, dayfirst, cache_dates, iterator, chunksize, compression, thousands, decimal, lineterminator, quotechar, quoting, doublequote, escapechar, comment, encoding, encoding_errors, dialect, error_bad_lines, warn_bad_lines, on_bad_lines, delim_whitespace, low_memory, memory_map, float_precision, storage_options)\u001b[0m\n\u001b[1;32m    935\u001b[0m kwds_defaults \u001b[39m=\u001b[39m _refine_defaults_read(\n\u001b[1;32m    936\u001b[0m     dialect,\n\u001b[1;32m    937\u001b[0m     delimiter,\n\u001b[0;32m   (...)\u001b[0m\n\u001b[1;32m    946\u001b[0m     defaults\u001b[39m=\u001b[39m{\u001b[39m\"\u001b[39m\u001b[39mdelimiter\u001b[39m\u001b[39m\"\u001b[39m: \u001b[39m\"\u001b[39m\u001b[39m,\u001b[39m\u001b[39m\"\u001b[39m},\n\u001b[1;32m    947\u001b[0m )\n\u001b[1;32m    948\u001b[0m kwds\u001b[39m.\u001b[39mupdate(kwds_defaults)\n\u001b[0;32m--> 950\u001b[0m \u001b[39mreturn\u001b[39;00m _read(filepath_or_buffer, kwds)\n",
      "File \u001b[0;32m~/.miniconda3/envs/regression2/lib/python3.11/site-packages/pandas/io/parsers/readers.py:605\u001b[0m, in \u001b[0;36m_read\u001b[0;34m(filepath_or_buffer, kwds)\u001b[0m\n\u001b[1;32m    602\u001b[0m _validate_names(kwds\u001b[39m.\u001b[39mget(\u001b[39m\"\u001b[39m\u001b[39mnames\u001b[39m\u001b[39m\"\u001b[39m, \u001b[39mNone\u001b[39;00m))\n\u001b[1;32m    604\u001b[0m \u001b[39m# Create the parser.\u001b[39;00m\n\u001b[0;32m--> 605\u001b[0m parser \u001b[39m=\u001b[39m TextFileReader(filepath_or_buffer, \u001b[39m*\u001b[39m\u001b[39m*\u001b[39mkwds)\n\u001b[1;32m    607\u001b[0m \u001b[39mif\u001b[39;00m chunksize \u001b[39mor\u001b[39;00m iterator:\n\u001b[1;32m    608\u001b[0m     \u001b[39mreturn\u001b[39;00m parser\n",
      "File \u001b[0;32m~/.miniconda3/envs/regression2/lib/python3.11/site-packages/pandas/io/parsers/readers.py:1442\u001b[0m, in \u001b[0;36mTextFileReader.__init__\u001b[0;34m(self, f, engine, **kwds)\u001b[0m\n\u001b[1;32m   1439\u001b[0m     \u001b[39mself\u001b[39m\u001b[39m.\u001b[39moptions[\u001b[39m\"\u001b[39m\u001b[39mhas_index_names\u001b[39m\u001b[39m\"\u001b[39m] \u001b[39m=\u001b[39m kwds[\u001b[39m\"\u001b[39m\u001b[39mhas_index_names\u001b[39m\u001b[39m\"\u001b[39m]\n\u001b[1;32m   1441\u001b[0m \u001b[39mself\u001b[39m\u001b[39m.\u001b[39mhandles: IOHandles \u001b[39m|\u001b[39m \u001b[39mNone\u001b[39;00m \u001b[39m=\u001b[39m \u001b[39mNone\u001b[39;00m\n\u001b[0;32m-> 1442\u001b[0m \u001b[39mself\u001b[39m\u001b[39m.\u001b[39m_engine \u001b[39m=\u001b[39m \u001b[39mself\u001b[39m\u001b[39m.\u001b[39m_make_engine(f, \u001b[39mself\u001b[39m\u001b[39m.\u001b[39mengine)\n",
      "File \u001b[0;32m~/.miniconda3/envs/regression2/lib/python3.11/site-packages/pandas/io/parsers/readers.py:1735\u001b[0m, in \u001b[0;36mTextFileReader._make_engine\u001b[0;34m(self, f, engine)\u001b[0m\n\u001b[1;32m   1733\u001b[0m     \u001b[39mif\u001b[39;00m \u001b[39m\"\u001b[39m\u001b[39mb\u001b[39m\u001b[39m\"\u001b[39m \u001b[39mnot\u001b[39;00m \u001b[39min\u001b[39;00m mode:\n\u001b[1;32m   1734\u001b[0m         mode \u001b[39m+\u001b[39m\u001b[39m=\u001b[39m \u001b[39m\"\u001b[39m\u001b[39mb\u001b[39m\u001b[39m\"\u001b[39m\n\u001b[0;32m-> 1735\u001b[0m \u001b[39mself\u001b[39m\u001b[39m.\u001b[39mhandles \u001b[39m=\u001b[39m get_handle(\n\u001b[1;32m   1736\u001b[0m     f,\n\u001b[1;32m   1737\u001b[0m     mode,\n\u001b[1;32m   1738\u001b[0m     encoding\u001b[39m=\u001b[39m\u001b[39mself\u001b[39m\u001b[39m.\u001b[39moptions\u001b[39m.\u001b[39mget(\u001b[39m\"\u001b[39m\u001b[39mencoding\u001b[39m\u001b[39m\"\u001b[39m, \u001b[39mNone\u001b[39;00m),\n\u001b[1;32m   1739\u001b[0m     compression\u001b[39m=\u001b[39m\u001b[39mself\u001b[39m\u001b[39m.\u001b[39moptions\u001b[39m.\u001b[39mget(\u001b[39m\"\u001b[39m\u001b[39mcompression\u001b[39m\u001b[39m\"\u001b[39m, \u001b[39mNone\u001b[39;00m),\n\u001b[1;32m   1740\u001b[0m     memory_map\u001b[39m=\u001b[39m\u001b[39mself\u001b[39m\u001b[39m.\u001b[39moptions\u001b[39m.\u001b[39mget(\u001b[39m\"\u001b[39m\u001b[39mmemory_map\u001b[39m\u001b[39m\"\u001b[39m, \u001b[39mFalse\u001b[39;00m),\n\u001b[1;32m   1741\u001b[0m     is_text\u001b[39m=\u001b[39mis_text,\n\u001b[1;32m   1742\u001b[0m     errors\u001b[39m=\u001b[39m\u001b[39mself\u001b[39m\u001b[39m.\u001b[39moptions\u001b[39m.\u001b[39mget(\u001b[39m\"\u001b[39m\u001b[39mencoding_errors\u001b[39m\u001b[39m\"\u001b[39m, \u001b[39m\"\u001b[39m\u001b[39mstrict\u001b[39m\u001b[39m\"\u001b[39m),\n\u001b[1;32m   1743\u001b[0m     storage_options\u001b[39m=\u001b[39m\u001b[39mself\u001b[39m\u001b[39m.\u001b[39moptions\u001b[39m.\u001b[39mget(\u001b[39m\"\u001b[39m\u001b[39mstorage_options\u001b[39m\u001b[39m\"\u001b[39m, \u001b[39mNone\u001b[39;00m),\n\u001b[1;32m   1744\u001b[0m )\n\u001b[1;32m   1745\u001b[0m \u001b[39massert\u001b[39;00m \u001b[39mself\u001b[39m\u001b[39m.\u001b[39mhandles \u001b[39mis\u001b[39;00m \u001b[39mnot\u001b[39;00m \u001b[39mNone\u001b[39;00m\n\u001b[1;32m   1746\u001b[0m f \u001b[39m=\u001b[39m \u001b[39mself\u001b[39m\u001b[39m.\u001b[39mhandles\u001b[39m.\u001b[39mhandle\n",
      "File \u001b[0;32m~/.miniconda3/envs/regression2/lib/python3.11/site-packages/pandas/io/common.py:856\u001b[0m, in \u001b[0;36mget_handle\u001b[0;34m(path_or_buf, mode, encoding, compression, memory_map, is_text, errors, storage_options)\u001b[0m\n\u001b[1;32m    851\u001b[0m \u001b[39melif\u001b[39;00m \u001b[39misinstance\u001b[39m(handle, \u001b[39mstr\u001b[39m):\n\u001b[1;32m    852\u001b[0m     \u001b[39m# Check whether the filename is to be opened in binary mode.\u001b[39;00m\n\u001b[1;32m    853\u001b[0m     \u001b[39m# Binary mode does not support 'encoding' and 'newline'.\u001b[39;00m\n\u001b[1;32m    854\u001b[0m     \u001b[39mif\u001b[39;00m ioargs\u001b[39m.\u001b[39mencoding \u001b[39mand\u001b[39;00m \u001b[39m\"\u001b[39m\u001b[39mb\u001b[39m\u001b[39m\"\u001b[39m \u001b[39mnot\u001b[39;00m \u001b[39min\u001b[39;00m ioargs\u001b[39m.\u001b[39mmode:\n\u001b[1;32m    855\u001b[0m         \u001b[39m# Encoding\u001b[39;00m\n\u001b[0;32m--> 856\u001b[0m         handle \u001b[39m=\u001b[39m \u001b[39mopen\u001b[39m(\n\u001b[1;32m    857\u001b[0m             handle,\n\u001b[1;32m    858\u001b[0m             ioargs\u001b[39m.\u001b[39mmode,\n\u001b[1;32m    859\u001b[0m             encoding\u001b[39m=\u001b[39mioargs\u001b[39m.\u001b[39mencoding,\n\u001b[1;32m    860\u001b[0m             errors\u001b[39m=\u001b[39merrors,\n\u001b[1;32m    861\u001b[0m             newline\u001b[39m=\u001b[39m\u001b[39m\"\u001b[39m\u001b[39m\"\u001b[39m,\n\u001b[1;32m    862\u001b[0m         )\n\u001b[1;32m    863\u001b[0m     \u001b[39melse\u001b[39;00m:\n\u001b[1;32m    864\u001b[0m         \u001b[39m# Binary mode\u001b[39;00m\n\u001b[1;32m    865\u001b[0m         handle \u001b[39m=\u001b[39m \u001b[39mopen\u001b[39m(handle, ioargs\u001b[39m.\u001b[39mmode)\n",
      "\u001b[0;31mFileNotFoundError\u001b[0m: [Errno 2] No such file or directory: 'datasets/PAINeT train data-24-01-2023 O.csv'"
     ]
    }
   ],
   "source": [
    "# N = pd.read_csv(\"PAINeT train data-24-01-2023 N.csv\",sep=';',decimal=',')\n",
    "Odata = pd.read_csv(\"datasets/PAINeT train data-24-01-2023 O.csv\",sep=';',decimal=',')\n",
    "# N2 = pd.read_csv(\"PAINeT train data-24-01-2023 N2.csv\",sep=';',decimal=',')\n",
    "O2data = pd.read_csv(\"datasets/PAINeT train data-24-01-2023 O2.csv\",sep=';',decimal=',')\n",
    "# NO = pd.read_csv(\"PAINeT train data-24-01-2023 NO.csv\",sep=';',decimal=',')\n",
    "\n",
    "mixture = pd.read_csv(\"datasets/PAINeT train data-25-01-2023 N2-N-O2-O-NO.csv\",sep=';',decimal=',')"
   ]
  },
  {
   "cell_type": "code",
   "execution_count": null,
   "id": "22ef2a31-328b-4d28-9d01-734395431797",
   "metadata": {
    "tags": []
   },
   "outputs": [],
   "source": [
    "species_type = {\n",
    "    'N': True,\n",
    "    'O': True,\n",
    "    'N2': False,\n",
    "    'O2': False,\n",
    "    'NO': False\n",
    "}"
   ]
  },
  {
   "cell_type": "code",
   "execution_count": 16,
   "id": "25241dc0-1b92-482b-a1cc-28a6c3f8553c",
   "metadata": {
    "tags": []
   },
   "outputs": [],
   "source": [
    "molecular_weights = {\n",
    "    'N': 14.0067,\n",
    "    'O': 15.999,\n",
    "    'N2': 28.0134,\n",
    "    'O2': 31.9988,\n",
    "    'NO': 30.006\n",
    "}"
   ]
  },
  {
   "cell_type": "code",
   "execution_count": 17,
   "id": "11815b6e-4f10-454c-b002-fae914a23f25",
   "metadata": {
    "tags": []
   },
   "outputs": [],
   "source": [
    "sutherland_constants = { ### double check this!!\n",
    "    'O2': {'As': 1.458e-6, 'Ts': 120.0},\n",
    "    'N2': {'As': 1.396e-6, 'Ts': 111.0},\n",
    "    'NO': {'As': 1.368e-6, 'Ts': 97.0},\n",
    "    'N': {'As': 1.434e-6, 'Ts': 91.0},\n",
    "    'O': {'As': 1.584e-6, 'Ts': 106.0}\n",
    "}\n"
   ]
  },
  {
   "cell_type": "code",
   "execution_count": 18,
   "id": "cebcc2f4-065c-4c3d-af70-b3d0a1926425",
   "metadata": {
    "tags": []
   },
   "outputs": [],
   "source": [
    "blottner_constants = {\n",
    "    'NO': {\n",
    "        'A': 0.0436378,\n",
    "        'B': -0.0335511,\n",
    "        'C': -9.5767430\n",
    "    },\n",
    "    'N': {\n",
    "        'A': 0.0115572,\n",
    "        'B': 0.6031679,\n",
    "        'C': -12.4327495\n",
    "    },\n",
    "    'O': {\n",
    "        'A': 0.0203144,\n",
    "        'B': 0.4294404,\n",
    "        'C': -11.6031403\n",
    "    },\n",
    "    'N2': {\n",
    "        'A': 0.0268142,\n",
    "        'B': 0.3177838,\n",
    "        'C': -11.3155513\n",
    "    },\n",
    "    'O2': {\n",
    "        'A': 0.0449290,\n",
    "        'B': -0.0826158,\n",
    "        'C': -9.2019475\n",
    "    }\n",
    "}\n"
   ]
  },
  {
   "cell_type": "code",
   "execution_count": 19,
   "id": "04b33f7b-86a3-4d2d-a937-36d163984edf",
   "metadata": {
    "tags": []
   },
   "outputs": [],
   "source": [
    "GisThetaDict = {\n",
    "    \"N\" : [\n",
    "        (4,  0),\n",
    "        (10, 2.766470e4 ),\n",
    "        (6,  4.149309e4)\n",
    "    ],\n",
    "    \"O\" : [\n",
    "      (5 , 0),\n",
    "       ( 3 , 2.277078e2),\n",
    "       ( 1 , 3.265689e2),\n",
    "       ( 5 , 2.283029e4),\n",
    "       ( 1 , 4.861993e4)\n",
    "    ],\n",
    "    \"N2\": [\n",
    "        (1,  0),\n",
    "        (3 , 7.223157e4),\n",
    "        (6 , 8.577863e4),\n",
    "        (6 , 8.605027e4),\n",
    "        (3 , 9.535119e4),\n",
    "        (1 , 9.805636e4),\n",
    "        (2 , 9.968268e4),\n",
    "        (   2 , 1.048976e5),\n",
    "        ( 5 , 1.116490e5),\n",
    "        (   1 , 1.225836e5),\n",
    "        (6,  1.248857e5),\n",
    "        (6 , 1.282476e5),\n",
    "        (10, 1.338061e5),\n",
    "        (6 , 1.404296e5),\n",
    "        (6 , 1.504959e5)\n",
    "    ],\n",
    "    \"O2\": [\n",
    "        ( 3,  0),\n",
    "        (2 , 1.139156e4),\n",
    "        (1 , 1.898474e4),\n",
    "        (1 , 4.755974e4),\n",
    "        (6 , 4.991242e4),\n",
    "        (3 , 5.092269e4),\n",
    "        (3 , 7.189863e4)\n",
    "    ],\n",
    "    \"NO\": [\n",
    "        (4 , 0),\n",
    "        (8 , 5.467346e4),\n",
    "        (2 , 6.317140e4),\n",
    "        (4 , 6.599450e4),\n",
    "        (4 , 6.906121e4),\n",
    "        (4 , 7.049998e4),\n",
    "        (4 , 7.491055e4),\n",
    "        (2 , 7.628875e4),\n",
    "        (4 , 8.676189e4),\n",
    "        (2 , 8.714431e4),\n",
    "        (4 , 8.886077e4),\n",
    "        (4 , 8.981756e4),\n",
    "        (2 , 8.988446e4),\n",
    "        (2 , 9.042702e4),\n",
    "        (2 , 9.064284e4),\n",
    "        (4 , 9.111763e4)\n",
    "    ],\n",
    "}"
   ]
  },
  {
   "cell_type": "code",
   "execution_count": 20,
   "id": "f00e618d-ebb8-4d4a-bbf0-52b9db432c52",
   "metadata": {
    "tags": []
   },
   "outputs": [],
   "source": [
    "ThetavsDict = {\n",
    "    \"N\" : 0,\n",
    "    \"O\" : 0,\n",
    "    \"N2\": 3371,\n",
    "    \"O2\": 2256,\n",
    "    \"NO\": 2719\n",
    "}"
   ]
  },
  {
   "cell_type": "code",
   "execution_count": 21,
   "id": "d83e2aaf-01ff-47fe-93ea-e6f4ece775e9",
   "metadata": {},
   "outputs": [],
   "source": [
    "# Write a python class of species and mixture of gas components with possibilities to compute viscosity using sutherland model and mixing rule\n",
    "# Add thermal conductivity eucken calculation and possibility of two temperature approach\n",
    "# can you make it faster using numpy and njit\n",
    "# all constants for different species properties should be stored in dicts, so we can invoke it as GasComponent['O2']. "
   ]
  },
  {
   "cell_type": "code",
   "execution_count": null,
   "id": "7db69c64-1a5f-4189-83fb-d42aa1660440",
   "metadata": {},
   "outputs": [],
   "source": []
  },
  {
   "cell_type": "code",
   "execution_count": 22,
   "id": "cb54434a-895b-4e6e-8eae-5fd12e1216bd",
   "metadata": {},
   "outputs": [],
   "source": [
    "## Сначала весь функционал, потом оптимизация!"
   ]
  },
  {
   "cell_type": "code",
   "execution_count": 23,
   "id": "bea05db8-e208-4eca-a923-c46ca36b903e",
   "metadata": {},
   "outputs": [],
   "source": [
    "components = {\n",
    "    'O2': {\n",
    "        'molecular_weight': molecular_weights['O2'],\n",
    "        'sutherland_constants': sutherland_constants['O2'],\n",
    "    },\n",
    "    'N2': {\n",
    "        'molecular_weight': molecular_weights['N2'],\n",
    "        'sutherland_constants': sutherland_constants['N2'],\n",
    "    }\n",
    "}"
   ]
  },
  {
   "cell_type": "code",
   "execution_count": 24,
   "id": "9fe63605-cfe1-4443-9666-9a6478a8e8e6",
   "metadata": {
    "tags": []
   },
   "outputs": [
    {
     "data": {
      "text/plain": [
       "{'As': 1.458e-06, 'Ts': 120.0}"
      ]
     },
     "execution_count": 24,
     "metadata": {},
     "output_type": "execute_result"
    }
   ],
   "source": [
    "sutherland_constants['O2']"
   ]
  },
  {
   "cell_type": "code",
   "execution_count": 25,
   "id": "1601bacf-1230-4d33-95a4-405605bddeb2",
   "metadata": {
    "tags": []
   },
   "outputs": [
    {
     "data": {
      "text/plain": [
       "Temperature[K]                                    15447.08989\n",
       " Pressure[Pa]                                   198069.470344\n",
       " N                                                   0.203671\n",
       " O                                                   0.168494\n",
       " N2                                                  0.130765\n",
       " O2                                                  0.298519\n",
       " NO                                                  0.198552\n",
       " Specific heat at constant pressure [J/kg/K]      1580.006634\n",
       " Thermal conductivity translational [W/m/K]          0.428985\n",
       " Thermal conductivity internal [W/m/K]                0.34166\n",
       " Shear viscosity [Pa*s}                              0.000329\n",
       "Unnamed: 11                                                  \n",
       "Name: 25, dtype: object"
      ]
     },
     "execution_count": 25,
     "metadata": {},
     "output_type": "execute_result"
    }
   ],
   "source": [
    "n = 25\n",
    "mixture.iloc[n,:]"
   ]
  },
  {
   "cell_type": "code",
   "execution_count": 26,
   "id": "3214f3de-a213-418f-84ff-cb54c28cd168",
   "metadata": {
    "tags": []
   },
   "outputs": [],
   "source": [
    "T1, N1, O1, N21, O21, NO1 = mixture.iloc[n,0], mixture.iloc[n,2], mixture.iloc[n,3], mixture.iloc[n,4], mixture.iloc[n,5], mixture.iloc[n,6]"
   ]
  },
  {
   "cell_type": "code",
   "execution_count": 27,
   "id": "0c2c688c-2c5f-4f55-897b-1c1ef7a9e1bd",
   "metadata": {
    "tags": []
   },
   "outputs": [
    {
     "data": {
      "text/plain": [
       "Temperature[K]                                  15448.016913\n",
       " Pressure[Pa]                                   76026.656242\n",
       " O2                                                        1\n",
       " Specific heat at constant pressure [J/kg/K]     1083.088567\n",
       " Thermal conductivity translational [W/m/K]         0.316931\n",
       " Thermal conductivity internal [W/m/K]              0.197738\n",
       " Shear viscosity [Pa*s}                             0.000325\n",
       "Unnamed: 7                                                  \n",
       "Name: 28087, dtype: object"
      ]
     },
     "execution_count": 27,
     "metadata": {},
     "output_type": "execute_result"
    }
   ],
   "source": [
    "O2data.iloc[28087]"
   ]
  },
  {
   "cell_type": "code",
   "execution_count": 28,
   "id": "3b820882-ec90-4df9-a7e4-e572e43c9658",
   "metadata": {},
   "outputs": [],
   "source": [
    "R_universal = 8.31446261815324"
   ]
  },
  {
   "cell_type": "code",
   "execution_count": null,
   "id": "a58245e7-101e-4832-b5ac-db3c458d3f9e",
   "metadata": {},
   "outputs": [],
   "source": []
  },
  {
   "cell_type": "code",
   "execution_count": null,
   "id": "b2a609b4-b5ea-45e6-976f-cfcd16009518",
   "metadata": {},
   "outputs": [],
   "source": []
  },
  {
   "cell_type": "code",
   "execution_count": 29,
   "id": "9794b834-fe0e-4d2a-bf00-a5dd0fe8be4f",
   "metadata": {
    "tags": []
   },
   "outputs": [],
   "source": [
    "### TODO: rewrite in more concise way, test it (write test), get into a lib"
   ]
  },
  {
   "cell_type": "code",
   "execution_count": 30,
   "id": "40747604-f49d-420d-a69e-a65d3e957fb3",
   "metadata": {},
   "outputs": [],
   "source": [
    "from numba import njit\n",
    "import numpy as np"
   ]
  },
  {
   "cell_type": "code",
   "execution_count": 55,
   "id": "1f00a602-a4a9-488c-adb0-fd293319d609",
   "metadata": {},
   "outputs": [],
   "source": [
    "class Specie:\n",
    "    def __init__(self, name, viscosity_model = \"blottner\", thermal_conductivity_model = \"eucken\"):\n",
    "        self.name = name\n",
    "        self.is_atom = species_type[name]\n",
    "        self.molecular_weight = molecular_weights[name]\n",
    "        self.sutherland_constant = sutherland_constants[name]\n",
    "        self.blottner_constant = blottner_constants[name]\n",
    "        self.viscosity_model = viscosity_model\n",
    "        self.thermal_conductivity_model = thermal_conductivity_model\n",
    "        self.R_specific = R_universal/self.molecular_weight*1000\n",
    "        \n",
    "    def __repr__(self):\n",
    "        info =f\"{self.name}\"\n",
    "        if self.is_atom:\n",
    "            info += \", atom\"\n",
    "        else:\n",
    "            info += \", molecule\" #diatomic?\n",
    "        info+= f\", {self.viscosity_model} viscosity model\"\n",
    "        return info\n",
    "\n",
    "    \n",
    "    def compute_viscosity(self, T, p = None):\n",
    "        if self.viscosity_model == \"blottner\":\n",
    "            return self._compute_viscosity_blottner(T, self.blottner_constant['A'], \n",
    "                                                    self.blottner_constant['B'], \n",
    "                                                    self.blottner_constant['C'])\n",
    "        elif self.viscosity_model == \"sutherland\":\n",
    "            return self._compute_viscosity_sutherland(T, self.blottner_constant['As'], \n",
    "                                                      self.blottner_constant['Ts']\n",
    "                                                     )\n",
    "        else:\n",
    "            raise ValueError(\"Invalid viscosity model specified.\")\n",
    "    \n",
    "    def compute_thermal_conductivity(self, T, Tve = None):\n",
    "        if Tve == None:\n",
    "            Tve = T\n",
    "            \n",
    "        if self.thermal_conductivity_model == \"eucken\":\n",
    "            return self._compute_thermal_conductivity_eucken(T, Tve, \n",
    "                                                             self.compute_viscosity(T), \n",
    "                                                             self._compute_C_v_tr(), \n",
    "                                                             self._compute_C_v_ve(Tve))\n",
    "        return 0\n",
    "        # two temperatures!\n",
    "        \n",
    "    @staticmethod\n",
    "    def _compute_viscosity_sutherland(T, As, Ts):\n",
    "        ''' \\mu = A_s\\frac{T^{\\frac{3}{2}}}{T+T_s} '''\n",
    "        return As*T**(1.5)/(Ts+T)\n",
    "    \n",
    "    @staticmethod\n",
    "    def _compute_viscosity_blottner(T, As, Bs, Cs):\n",
    "        '''  \\mu=0.1\\exp{[(A_s\\ln{T}+B_s)\\ln(T)+C_s]} '''\n",
    "        return 0.1*np.exp((As*np.log(T)+Bs)*np.log(T)+Cs)\n",
    "    \n",
    "    @staticmethod\n",
    "    def _compute_thermal_conductivity_eucken(T, Tve, mu, C_v_tr, C_v_ve):\n",
    "        return (2.5*C_v_tr*mu, 1.25*C_v_ve*mu)\n",
    "\n",
    "    @staticmethod\n",
    "    def _compute_C_v_t(R_specific):\n",
    "        return 1.5 * R_specific\n",
    "\n",
    "    @staticmethod\n",
    "    def _compute_C_v_r(R_specific):\n",
    "        return R_specific\n",
    "\n",
    "    def _compute_C_v_tr(self): #precompute it?\n",
    "        return self._compute_C_v_t(self.R_specific) + self._compute_C_v_r(self.R_specific)\n",
    "    \n",
    "    \n",
    "    @staticmethod\n",
    "    def _compute_C_v_v(Tve, R_specific, thetavs, is_atom):\n",
    "        if is_atom:\n",
    "            return 0\n",
    "        return R_specific * (thetavs/Tve)**2 * np.exp(thetavs/Tve) / (np.exp(thetavs/Tve)-1)**2\n",
    "    \n",
    "    @staticmethod\n",
    "    def _compute_C_v_el(R_specific, Tve, gistheta):\n",
    "        num1, den1, num21, num22 = 0.0, 0.0, 0.0, 0.0\n",
    "        for i in range(len(gistheta)):\n",
    "            E = np.exp(-gistheta[i][1]/Tve)\n",
    "            num1 += gistheta[i][0]*E*(gistheta[i][1]/Tve)**2\n",
    "            den1 += gistheta[i][0]*E\n",
    "            num21 += gistheta[i][0]*gistheta[i][1]*E\n",
    "            num22 += gistheta[i][0]*E*gistheta[i][1]/Tve**2\n",
    "\n",
    "        return R_specific *(num1 - (num21*num22/den1)) / (den1)\n",
    "\n",
    "    def _compute_C_v_ve (self, Tve):\n",
    "\n",
    "        return self._compute_C_v_v(Tve, self.R_specific, ThetavsDict[self.name], self.is_atom) + \\\n",
    "               self._compute_C_v_el(Tve, self.R_specific, GisThetaDict[self.name])\n",
    "\n",
    "    def compute_specific_heat_capacity_p (self):\n",
    "        return self._compute_C_v_tr() + self.R_specific"
   ]
  },
  {
   "cell_type": "code",
   "execution_count": 70,
   "id": "6f72c417-0920-430a-9298-ed17f7a17ea5",
   "metadata": {
    "tags": []
   },
   "outputs": [],
   "source": [
    "class Mixture:\n",
    "        def __init__(self, components, mole_fractions, mixing_rule = \"wilke\"):\n",
    "            self.components = components\n",
    "            self.num_components = len(mole_fractions)\n",
    "            self.mole_fractions = mole_fractions\n",
    "            self.mixing_rule = mixing_rule\n",
    "            \n",
    "        def __repr__(self):\n",
    "            info = \"Gas Mixture\\n=======================\\nComponents:\\n\"\n",
    "            for comp, mole_fraction in zip(self.components, self.mole_fractions):\n",
    "                info += f\"- {comp.name}: Mole Fraction = {mole_fraction:.2f}\\n\"\n",
    "            info+=\"=======================\\n\"+f\"Current mixing rule: {self.mixing_rule}\"+\"\\n=======================\"\n",
    "            return info\n",
    "          \n",
    "        def compute_viscosity(self, T, p = None):\n",
    "            species_viscosities, molecular_weights = np.empty(self.num_components), np.empty(self.num_components)\n",
    "            for i in range(self.num_components):\n",
    "                species_viscosities[i] = self.components[i].compute_viscosity(T,p)\n",
    "                molecular_weights[i] = self.components[i].molecular_weight \n",
    "                \n",
    "            if self.mixing_rule == \"wilke\":\n",
    "                return self._compute_wilke_mixing_rule(self.num_components, species_viscosities, self.mole_fractions, molecular_weights)\n",
    "            \n",
    "        def compute_thermal_conductivity(self, T, Tve = None):\n",
    "            if Tve == None:\n",
    "                Tve = T\n",
    "            species_thermal_conductivity_tr = np.empty(self.num_components)\n",
    "            species_thermal_conductivity_ve =  np.empty(self.num_components)\n",
    "            molecular_weights = np.empty(self.num_components)\n",
    "            for i in range(self.num_components):\n",
    "                species_thermal_conductivity_tr[i], species_thermal_conductivity_ve[i] = self.components[i].compute_thermal_conductivity(T,Tve)\n",
    "                molecular_weights[i] = self.components[i].molecular_weight \n",
    "            print(species_thermal_conductivity_ve)\n",
    "                \n",
    "            if self.mixing_rule == \"wilke\":\n",
    "                thermal_conductivity_tr = self._compute_wilke_mixing_rule(self.num_components, species_thermal_conductivity_tr, self.mole_fractions, molecular_weights)\n",
    "                thermal_conductivity_ve = self._compute_wilke_mixing_rule(self.num_components, species_thermal_conductivity_ve, self.mole_fractions, molecular_weights)\n",
    "                return thermal_conductivity_tr, thermal_conductivity_ve\n",
    "\n",
    "            \n",
    "        @staticmethod    \n",
    "        def _compute_wilke_mixing_rule(num_components, species_properties, mole_fractions, molecular_weights):\n",
    "            result = 0.0\n",
    "\n",
    "            for j in range(num_components):\n",
    "                phi_j = 0.0\n",
    "                for k in range(num_components):\n",
    "                    phi_j += mole_fractions[k] * ((1.0 + np.sqrt(species_properties[j] / species_properties[k]) * \\\n",
    "                            (molecular_weights[k] / molecular_weights[j]) ** 0.25) ** 2.0) / \\\n",
    "                            np.sqrt(8.0 * (1.0 + molecular_weights[j] / molecular_weights[k]))\n",
    "\n",
    "                result += mole_fractions[j] * species_properties[j] / phi_j\n",
    "\n",
    "            return result"
   ]
  },
  {
   "cell_type": "code",
   "execution_count": 71,
   "id": "73a2adbf-73cc-48c9-aaf7-9809ddd9673c",
   "metadata": {},
   "outputs": [],
   "source": [
    "O2, N2, N, O, NO = Specie(\"O2\"), Specie(\"N2\"), Specie(\"N\"), Specie(\"O\"), Specie(\"NO\")"
   ]
  },
  {
   "cell_type": "code",
   "execution_count": 72,
   "id": "311300f6-f56b-4fd6-95d7-4dc52decd47f",
   "metadata": {
    "tags": []
   },
   "outputs": [],
   "source": [
    "air = Mixture([O2,N2, NO, N, O],[O21,N21, NO1, N1, O1])"
   ]
  },
  {
   "cell_type": "code",
   "execution_count": 73,
   "id": "be48d97b-e60f-4edb-8e02-3030fa9d39f6",
   "metadata": {
    "tags": []
   },
   "outputs": [
    {
     "data": {
      "text/plain": [
       "0.00032334902060595516"
      ]
     },
     "execution_count": 73,
     "metadata": {},
     "output_type": "execute_result"
    }
   ],
   "source": [
    "air.compute_viscosity(T1)"
   ]
  },
  {
   "cell_type": "code",
   "execution_count": 74,
   "id": "c38cf3f9-c201-4819-a628-5aa85c851e59",
   "metadata": {
    "tags": []
   },
   "outputs": [
    {
     "data": {
      "text/plain": [
       "909.4284524274767"
      ]
     },
     "execution_count": 74,
     "metadata": {},
     "output_type": "execute_result"
    }
   ],
   "source": [
    "O2.compute_specific_heat_capacity_p()"
   ]
  },
  {
   "cell_type": "code",
   "execution_count": 75,
   "id": "05605aad-4fd1-4003-ae07-fe111cac3098",
   "metadata": {
    "tags": []
   },
   "outputs": [
    {
     "data": {
      "text/plain": [
       "(0.482380065036104, 0.09630471199836926)"
      ]
     },
     "execution_count": 75,
     "metadata": {},
     "output_type": "execute_result"
    }
   ],
   "source": [
    "O2.compute_thermal_conductivity(T1)"
   ]
  },
  {
   "cell_type": "code",
   "execution_count": 76,
   "id": "e2a2e9be-62a9-47d7-adb5-e99047adfa68",
   "metadata": {
    "tags": []
   },
   "outputs": [
    {
     "data": {
      "text/plain": [
       "(1.2360819099437745, 0.3883998643364477)"
      ]
     },
     "execution_count": 76,
     "metadata": {},
     "output_type": "execute_result"
    }
   ],
   "source": [
    "O.compute_thermal_conductivity(T1)"
   ]
  },
  {
   "cell_type": "code",
   "execution_count": null,
   "id": "e04ea9b6-2e84-4a97-9ba6-046dcac6972f",
   "metadata": {
    "tags": []
   },
   "outputs": [],
   "source": []
  },
  {
   "cell_type": "code",
   "execution_count": 77,
   "id": "428c8b69-7b40-4d72-b4e5-1d400f230fd2",
   "metadata": {
    "tags": []
   },
   "outputs": [
    {
     "data": {
      "text/plain": [
       "0.0003805624081395269"
      ]
     },
     "execution_count": 77,
     "metadata": {},
     "output_type": "execute_result"
    }
   ],
   "source": [
    "O.compute_viscosity(T1)"
   ]
  },
  {
   "cell_type": "code",
   "execution_count": 78,
   "id": "5dfd2320-2083-4031-8aaf-1271c84d456a",
   "metadata": {
    "tags": []
   },
   "outputs": [
    {
     "name": "stdout",
     "output_type": "stream",
     "text": [
      "[9.57929943e-02 1.15534806e-01 9.96437142e-02 1.18439190e-16\n",
      " 1.94199932e-01]\n"
     ]
    },
    {
     "data": {
      "text/plain": [
       "(0.654922501291253, 3.208638964421172e-15)"
      ]
     },
     "execution_count": 78,
     "metadata": {},
     "output_type": "execute_result"
    }
   ],
   "source": [
    "air.compute_thermal_conductivity(T1,T1/2)"
   ]
  },
  {
   "cell_type": "code",
   "execution_count": null,
   "id": "d76cf2c8-1809-477a-b412-b14a3f7c1f2e",
   "metadata": {},
   "outputs": [],
   "source": []
  },
  {
   "cell_type": "code",
   "execution_count": 24,
   "id": "37084770-8c55-425d-ac35-61ecb3582b2b",
   "metadata": {
    "tags": []
   },
   "outputs": [
    {
     "data": {
      "text/plain": [
       "Temperature[K]                                    15447.08989\n",
       " Pressure[Pa]                                   198069.470344\n",
       " N                                                   0.203671\n",
       " O                                                   0.168494\n",
       " N2                                                  0.130765\n",
       " O2                                                  0.298519\n",
       " NO                                                  0.198552\n",
       " Specific heat at constant pressure [J/kg/K]      1580.006634\n",
       " Thermal conductivity translational [W/m/K]          0.428985\n",
       " Thermal conductivity internal [W/m/K]                0.34166\n",
       " Shear viscosity [Pa*s}                              0.000329\n",
       "Unnamed: 11                                                  \n",
       "Name: 25, dtype: object"
      ]
     },
     "execution_count": 24,
     "metadata": {},
     "output_type": "execute_result"
    }
   ],
   "source": [
    "mixture.iloc[n,:]"
   ]
  },
  {
   "cell_type": "code",
   "execution_count": 25,
   "id": "9faa297b-1873-4e20-9690-3b11d793b19b",
   "metadata": {
    "tags": []
   },
   "outputs": [
    {
     "data": {
      "text/plain": [
       "[O2, molecule, blottner viscosity model,\n",
       " N2, molecule, blottner viscosity model,\n",
       " NO, molecule, blottner viscosity model,\n",
       " N, atom, blottner viscosity model,\n",
       " O, atom, blottner viscosity model]"
      ]
     },
     "execution_count": 25,
     "metadata": {},
     "output_type": "execute_result"
    }
   ],
   "source": [
    "air.components"
   ]
  },
  {
   "cell_type": "code",
   "execution_count": 45,
   "id": "4dce17ac-c30e-4d41-8337-05a97bb13cba",
   "metadata": {
    "tags": []
   },
   "outputs": [
    {
     "data": {
      "text/plain": [
       "0.00032334902060595516"
      ]
     },
     "execution_count": 45,
     "metadata": {},
     "output_type": "execute_result"
    }
   ],
   "source": [
    "air.compute_viscosity(T1)"
   ]
  },
  {
   "cell_type": "markdown",
   "id": "bbe77acd-f809-4af4-b659-3d41e05c8fe2",
   "metadata": {},
   "source": [
    "### Определяем константы"
   ]
  },
  {
   "cell_type": "markdown",
   "id": "8796037e-0e5d-47f4-bb7c-dc61aa73a292",
   "metadata": {
    "tags": []
   },
   "source": [
    "#### константы моделей сазерленда, блоттнера"
   ]
  },
  {
   "cell_type": "markdown",
   "id": "db793425-e2fc-465d-806f-9e0f7e1ac5a1",
   "metadata": {},
   "source": [
    "### Определяем необходимые функции"
   ]
  },
  {
   "cell_type": "markdown",
   "id": "be983203-64b1-483b-8fa1-3440d005cb0a",
   "metadata": {},
   "source": [
    "#### формула смешивания Вилке"
   ]
  },
  {
   "cell_type": "markdown",
   "id": "b8ca2828-80f0-4ba0-b3b2-dc3be0a33b59",
   "metadata": {
    "tags": []
   },
   "source": [
    "#### Модели сазерленда, блотнера\n",
    " "
   ]
  },
  {
   "cell_type": "markdown",
   "id": "7204a4d1-e9a4-4524-abf6-c5291d76ea24",
   "metadata": {},
   "source": []
  },
  {
   "cell_type": "code",
   "execution_count": null,
   "id": "3cfd3cca-7414-48f5-91c7-011785198f0a",
   "metadata": {},
   "outputs": [],
   "source": []
  },
  {
   "cell_type": "code",
   "execution_count": null,
   "id": "1f4ea798-a027-4606-b9e0-80971164e3b6",
   "metadata": {},
   "outputs": [],
   "source": []
  },
  {
   "cell_type": "code",
   "execution_count": null,
   "id": "ca90b547-921d-4790-b5eb-0e7c9966e300",
   "metadata": {},
   "outputs": [],
   "source": []
  },
  {
   "cell_type": "code",
   "execution_count": null,
   "id": "8a1881e2-d556-49ff-ab47-c7af797f21b4",
   "metadata": {},
   "outputs": [],
   "source": []
  },
  {
   "cell_type": "code",
   "execution_count": null,
   "id": "195ab085-4dbe-4c27-b028-0e336a89eba5",
   "metadata": {},
   "outputs": [],
   "source": []
  }
 ],
 "metadata": {
  "kernelspec": {
   "display_name": "Python 3 (ipykernel)",
   "language": "python",
   "name": "python3"
  },
  "language_info": {
   "codemirror_mode": {
    "name": "ipython",
    "version": 3
   },
   "file_extension": ".py",
   "mimetype": "text/x-python",
   "name": "python",
   "nbconvert_exporter": "python",
   "pygments_lexer": "ipython3",
   "version": "3.11.4"
  },
  "toc-autonumbering": false
 },
 "nbformat": 4,
 "nbformat_minor": 5
}
